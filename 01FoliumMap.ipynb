{
  "nbformat": 4,
  "nbformat_minor": 0,
  "metadata": {
    "colab": {
      "provenance": [],
      "toc_visible": true,
      "authorship_tag": "ABX9TyMwZL0sCxgATJ4YH2OVCxZP",
      "include_colab_link": true
    },
    "kernelspec": {
      "name": "python3",
      "display_name": "Python 3"
    },
    "language_info": {
      "name": "python"
    }
  },
  "cells": [
    {
      "cell_type": "markdown",
      "metadata": {
        "id": "view-in-github",
        "colab_type": "text"
      },
      "source": [
        "<a href=\"https://colab.research.google.com/github/danielantonio14/danielantonio14/blob/main/01FoliumMap.ipynb\" target=\"_parent\"><img src=\"https://colab.research.google.com/assets/colab-badge.svg\" alt=\"Open In Colab\"/></a>"
      ]
    },
    {
      "cell_type": "code",
      "execution_count": 8,
      "metadata": {
        "id": "hc1vTwJgVtSJ"
      },
      "outputs": [],
      "source": [
        "inity = 5\n",
        "listy = [6,7]\n",
        "stringy =\"Hi\" \n",
        "\n",
        "import folium \n",
        "azores = folium.folium.Map(location =(36,-27), zoom_start =6).save(\"output.html\")"
      ]
    },
    {
      "cell_type": "code",
      "source": [
        "!ls\n"
      ],
      "metadata": {
        "colab": {
          "base_uri": "https://localhost:8080/"
        },
        "id": "0jwaFmkKXIU4",
        "outputId": "4f7b38a9-8e0e-4165-fc4d-971b9202f467"
      },
      "execution_count": 9,
      "outputs": [
        {
          "output_type": "stream",
          "name": "stdout",
          "text": [
            "output.html  sample_data\n"
          ]
        }
      ]
    }
  ]
}